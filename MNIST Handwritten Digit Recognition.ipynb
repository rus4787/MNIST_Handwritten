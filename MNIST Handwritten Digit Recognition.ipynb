{
 "cells": [
  {
   "cell_type": "markdown",
   "id": "16a2df53-8c58-4db6-a41c-6b21e1226097",
   "metadata": {},
   "source": [
    "# MNIST Handwritten Digit Recognition"
   ]
  },
  {
   "cell_type": "code",
   "execution_count": 1,
   "id": "dd5327bc-87f5-4fa5-a8d2-11d4f76d858d",
   "metadata": {},
   "outputs": [],
   "source": [
    "from tensorflow.keras.datasets import mnist     # Библиотека с базой рукописных цифр\n",
    "from tensorflow.keras.models import Sequential  # Подключение класса создания модели Sequential\n",
    "from tensorflow.keras.layers import Dense       # Подключение класса Dense - полносвязный слой\n",
    "from tensorflow.keras import utils              # Утилиты для подготовки данных\n",
    "import numpy as np                              # Работа с массивами\n",
    "import matplotlib.pyplot as plt                 # Отрисовка изображений\n",
    "\n",
    "# Отрисовка изображений в ячейках ноутбука\n",
    "%matplotlib inline "
   ]
  },
  {
   "cell_type": "code",
   "execution_count": 2,
   "id": "36fef1e9-0540-4175-934d-d1893293d4f1",
   "metadata": {},
   "outputs": [
    {
     "name": "stdout",
     "output_type": "stream",
     "text": [
      "Downloading data from https://storage.googleapis.com/tensorflow/tf-keras-datasets/mnist.npz\n",
      "11490434/11490434 [==============================] - 2s 0us/step\n"
     ]
    }
   ],
   "source": [
    "# Загрузка из облака данных Mnist\n",
    "(x_train_org, y_train_org), (x_test_org, y_test_org) = mnist.load_data()"
   ]
  },
  {
   "cell_type": "code",
   "execution_count": 3,
   "id": "67097eb2-7324-44d1-bdcc-41d1934f612b",
   "metadata": {},
   "outputs": [
    {
     "data": {
      "text/plain": [
       "(60000, 28, 28)"
      ]
     },
     "execution_count": 3,
     "metadata": {},
     "output_type": "execute_result"
    }
   ],
   "source": [
    "# Вывод формы данных для обучения\n",
    "x_train_org.shape"
   ]
  },
  {
   "cell_type": "markdown",
   "id": "3be3d6d1-df56-4795-b989-51114fc382d6",
   "metadata": {},
   "source": [
    "Right now, the images that we will use to train the neural network are represented as matrices of numbers, where each number is the brightness value of a pixel (ranging from 0 to 255). There are 60,000 such images in the training dataset, and their size is 28 by 28 pixels."
   ]
  },
  {
   "cell_type": "code",
   "execution_count": 4,
   "id": "b76b94f7-df50-4b0d-8028-fe2d2626a04d",
   "metadata": {},
   "outputs": [
    {
     "data": {
      "image/png": "[encoded data removed]",
      "text/plain": [
       "<Figure size 640x480 with 1 Axes>"
      ]
     },
     "metadata": {},
     "output_type": "display_data"
    }
   ],
   "source": [
    "# Номер картинки\n",
    "n = 143\n",
    "\n",
    "# Отрисовка картинки\n",
    "plt.imshow(x_train_org[n], cmap='gray')\n",
    "\n",
    "# Вывод n-й картинки\n",
    "plt.show()"
   ]
  },
  {
   "cell_type": "code",
   "execution_count": 5,
   "id": "8d0cdbad-d039-411a-ace9-4d5493f3310d",
   "metadata": {},
   "outputs": [
    {
     "name": "stdout",
     "output_type": "stream",
     "text": [
      "2\n"
     ]
    }
   ],
   "source": [
    "# Вывод метки класса для n-го изображения\n",
    "print(y_train_org[n])"
   ]
  },
  {
   "cell_type": "code",
   "execution_count": 6,
   "id": "c8c373b8-5d01-4757-8ece-45d2b002b203",
   "metadata": {},
   "outputs": [
    {
     "name": "stdout",
     "output_type": "stream",
     "text": [
      "Форма обучающих данных: (60000, 28, 28) -> (60000, 784)\n",
      "Форма  тестовых данных: (10000, 28, 28) -> (10000, 784)\n"
     ]
    }
   ],
   "source": [
    "# Изменение формы входных картинок с 28х28 на 784\n",
    "# первая ось остается без изменения, остальные складываются в вектор\n",
    "x_train = x_train_org.reshape(x_train_org.shape[0], -1)   \n",
    "x_test = x_test_org.reshape(x_test_org.shape[0], -1)   \n",
    "\n",
    "# Проверка результата\n",
    "print(f'Форма обучающих данных: {x_train_org.shape} -> {x_train.shape}')\n",
    "print(f'Форма  тестовых данных: {x_test_org.shape} -> {x_test.shape}')"
   ]
  },
  {
   "cell_type": "code",
   "execution_count": 7,
   "id": "f12a33f7-822f-4b75-a4b5-486372b47f84",
   "metadata": {},
   "outputs": [],
   "source": [
    "# Нормализация входных картинок\n",
    "# Преобразование x_train в тип float32 (числа с плавающей точкой) и нормализация\n",
    "x_train = x_train.astype('float32') / 255.\n",
    "\n",
    "# Преобразование x_test в тип float32 (числа с плавающей точкой) и нормализация\n",
    "x_test = x_test.astype('float32') / 255."
   ]
  },
  {
   "cell_type": "code",
   "execution_count": 9,
   "id": "180b03a3-d82e-49cf-9f9e-c79e6b46f8e3",
   "metadata": {},
   "outputs": [],
   "source": [
    "# Задание константы количества распознаваемых классов\n",
    "CLASS_COUNT = 10"
   ]
  },
  {
   "cell_type": "code",
   "execution_count": 10,
   "id": "bd4f0eb9-6d9f-4aa8-990f-40046ffc8064",
   "metadata": {},
   "outputs": [],
   "source": [
    "# Преобразование ответов в формат one_hot_encoding\n",
    "y_train = utils.to_categorical(y_train_org, CLASS_COUNT)\n",
    "y_test = utils.to_categorical(y_test_org, CLASS_COUNT)"
   ]
  },
  {
   "cell_type": "code",
   "execution_count": 11,
   "id": "a50291bf-7dcd-4a51-8c79-254fbef72167",
   "metadata": {},
   "outputs": [
    {
     "name": "stdout",
     "output_type": "stream",
     "text": [
      "(60000, 10)\n"
     ]
    }
   ],
   "source": [
    "# Вывод формы y_train\n",
    "# 60 тысяч примеров, каждый длины 10 по числу классов\n",
    "print(y_train.shape)"
   ]
  },
  {
   "cell_type": "code",
   "execution_count": 12,
   "id": "a7a81ba7-ab74-45a9-a5c5-ab5ab8eaccde",
   "metadata": {},
   "outputs": [
    {
     "name": "stdout",
     "output_type": "stream",
     "text": [
      "[0. 0. 0. 0. 0. 1. 0. 0. 0. 0.]\n"
     ]
    }
   ],
   "source": [
    "# Вывод примера одного выходного вектора\n",
    "print(y_train[0]) "
   ]
  },
  {
   "cell_type": "code",
   "execution_count": 13,
   "id": "e0864bd1-b791-45dd-940b-cbb79d077b0e",
   "metadata": {},
   "outputs": [
    {
     "name": "stdout",
     "output_type": "stream",
     "text": [
      "(60000,)\n"
     ]
    }
   ],
   "source": [
    "# Вывод формы массива меток\n",
    "print(y_train_org.shape)"
   ]
  },
  {
   "cell_type": "code",
   "execution_count": 14,
   "id": "81fad2dd-b497-4e0c-8cc9-720e0ac0aa8a",
   "metadata": {},
   "outputs": [
    {
     "name": "stdout",
     "output_type": "stream",
     "text": [
      "6\n"
     ]
    }
   ],
   "source": [
    "# Вывод метки, соответствующей 36-му элементу\n",
    "print(y_train_org[36])"
   ]
  },
  {
   "cell_type": "markdown",
   "id": "e226ca0e-93e1-4532-b5fd-98d0c799a633",
   "metadata": {},
   "source": [
    "### Creating a neural network"
   ]
  },
  {
   "cell_type": "code",
   "execution_count": 17,
   "id": "52309361-6278-4c57-a3cd-6f7a2122f72a",
   "metadata": {},
   "outputs": [],
   "source": [
    "# Создание последовательной модели\n",
    "model = Sequential()\n",
    "\n",
    "# Добавление полносвязного слоя на 800 нейронов с relu-активацией\n",
    "model.add(Dense(800, input_dim=784, activation='relu')) \n",
    "\n",
    "# Добавление полносвязного слоя на 400 нейронов с relu-активацией\n",
    "model.add(Dense(400, activation='relu')) \n",
    "\n",
    "# Добавление полносвязного слоя с количеством нейронов по числу классов с softmax-активацией\n",
    "model.add(Dense(CLASS_COUNT, activation='softmax')) "
   ]
  },
  {
   "cell_type": "code",
   "execution_count": 18,
   "id": "8e10f249-f0fc-4fb0-b3e8-cbde4de6a5cd",
   "metadata": {},
   "outputs": [
    {
     "name": "stdout",
     "output_type": "stream",
     "text": [
      "Model: \"sequential_1\"\n",
      "_________________________________________________________________\n",
      " Layer (type)                Output Shape              Param #   \n",
      "=================================================================\n",
      " dense_1 (Dense)             (None, 800)               628000    \n",
      "                                                                 \n",
      " dense_2 (Dense)             (None, 400)               320400    \n",
      "                                                                 \n",
      " dense_3 (Dense)             (None, 10)                4010      \n",
      "                                                                 \n",
      "=================================================================\n",
      "Total params: 952,410\n",
      "Trainable params: 952,410\n",
      "Non-trainable params: 0\n",
      "_________________________________________________________________\n",
      "None\n"
     ]
    }
   ],
   "source": [
    "# Компиляция модели\n",
    "model.compile(loss='categorical_crossentropy', optimizer='adam', metrics=['accuracy'])\n",
    "\n",
    "# Вывод структуры модели\n",
    "print(model.summary())"
   ]
  },
  {
   "cell_type": "code",
   "execution_count": 20,
   "id": "dd1a58b2-4e0d-45c7-886b-0fac7f9fc498",
   "metadata": {},
   "outputs": [
    {
     "name": "stdout",
     "output_type": "stream",
     "text": [
      "Collecting pydot\n",
      "  Downloading pydot-2.0.0-py3-none-any.whl.metadata (9.6 kB)\n",
      "Requirement already satisfied: pyparsing>=3 in c:\\python39-64\\lib\\site-packages (from pydot) (3.0.9)\n",
      "Downloading pydot-2.0.0-py3-none-any.whl (22 kB)\n",
      "Installing collected packages: pydot\n",
      "Successfully installed pydot-2.0.0\n"
     ]
    },
    {
     "name": "stderr",
     "output_type": "stream",
     "text": [
      "DEPRECATION: textract 1.6.5 has a non-standard dependency specifier extract-msg<=0.29.*. pip 24.1 will enforce this behaviour change. A possible replacement is to upgrade to a newer version of textract or contact the author to suggest that they release a version with a conforming dependency specifiers. Discussion can be found at https://github.com/pypa/pip/issues/12063\n"
     ]
    }
   ],
   "source": [
    "!pip install pydot"
   ]
  },
  {
   "cell_type": "code",
   "execution_count": 21,
   "id": "5af657d5-1f61-4e2a-a360-9b56b85c53ed",
   "metadata": {},
   "outputs": [
    {
     "name": "stdout",
     "output_type": "stream",
     "text": [
      "You must install pydot (`pip install pydot`) and install graphviz (see instructions at https://graphviz.gitlab.io/download/) for plot_model to work.\n"
     ]
    }
   ],
   "source": [
    "utils.plot_model(model, to_file='model_plot.png', show_shapes=True, show_layer_names=False)"
   ]
  },
  {
   "cell_type": "markdown",
   "id": "a3629c5d-52d9-4f9c-965b-fe53f1d0ddd6",
   "metadata": {},
   "source": [
    "### Neural Network Training"
   ]
  },
  {
   "cell_type": "code",
   "execution_count": 22,
   "id": "a4502ba0-08ce-40e7-888e-d569ef1b1c45",
   "metadata": {},
   "outputs": [
    {
     "name": "stdout",
     "output_type": "stream",
     "text": [
      "Epoch 1/15\n",
      "469/469 [==============================] - 49s 85ms/step - loss: 0.2097 - accuracy: 0.9379\n",
      "Epoch 2/15\n",
      "469/469 [==============================] - 40s 86ms/step - loss: 0.0772 - accuracy: 0.9755\n",
      "Epoch 3/15\n",
      "469/469 [==============================] - 48s 102ms/step - loss: 0.0478 - accuracy: 0.9851\n",
      "Epoch 4/15\n",
      "469/469 [==============================] - 47s 101ms/step - loss: 0.0348 - accuracy: 0.9886\n",
      "Epoch 5/15\n",
      "469/469 [==============================] - 39s 84ms/step - loss: 0.0187 - accuracy: 0.9938\n",
      "Epoch 8/15\n",
      "469/469 [==============================] - 49s 104ms/step - loss: 0.0128 - accuracy: 0.9959\n",
      "Epoch 9/15\n",
      "469/469 [==============================] - 36s 77ms/step - loss: 0.0149 - accuracy: 0.9952\n",
      "Epoch 10/15\n",
      "469/469 [==============================] - 38s 81ms/step - loss: 0.0141 - accuracy: 0.9950\n",
      "Epoch 11/15\n",
      "469/469 [==============================] - 33s 71ms/step - loss: 0.0130 - accuracy: 0.9959\n",
      "Epoch 12/15\n",
      "469/469 [==============================] - 32s 68ms/step - loss: 0.0088 - accuracy: 0.9972\n",
      "Epoch 13/15\n",
      "469/469 [==============================] - 26s 55ms/step - loss: 0.0136 - accuracy: 0.9955\n",
      "Epoch 14/15\n",
      "469/469 [==============================] - 41s 88ms/step - loss: 0.0095 - accuracy: 0.9968\n",
      "Epoch 15/15\n",
      "469/469 [==============================] - 35s 75ms/step - loss: 0.0081 - accuracy: 0.9972\n"
     ]
    },
    {
     "data": {
      "text/plain": [
       "<keras.callbacks.History at 0x169978b41f0>"
      ]
     },
     "execution_count": 22,
     "metadata": {},
     "output_type": "execute_result"
    }
   ],
   "source": [
    "model.fit(x_train,        # обучающая выборка, входные данные\n",
    "          y_train,        # обучающая выборка, выходные данные\n",
    "          batch_size=128, # кол-во примеров, которое обрабатывает нейронка перед одним изменением весов\n",
    "          epochs=15,      # количество эпох, когда нейронка обучается на всех примерах выборки\n",
    "          verbose=1)      # 0 - не визуализировать ход обучения, 1 - визуализировать"
   ]
  },
  {
   "cell_type": "code",
   "execution_count": 23,
   "id": "971e0ff2-bdb6-4d4c-8c9c-890c3f6e8c9b",
   "metadata": {},
   "outputs": [],
   "source": [
    "model.save_weights('model.h5')\n",
    "model.load_weights('model.h5')"
   ]
  },
  {
   "cell_type": "markdown",
   "id": "5eefce95-f4f8-4822-8acf-99c9688c351b",
   "metadata": {},
   "source": [
    "### Handwritten digit recognition"
   ]
  },
  {
   "cell_type": "code",
   "execution_count": 24,
   "id": "c2f77166-22e4-42ce-ba2a-dce084860bb7",
   "metadata": {},
   "outputs": [
    {
     "data": {
      "image/png": "[encoded data removed]",
      "text/plain": [
       "<Figure size 640x480 with 1 Axes>"
      ]
     },
     "metadata": {},
     "output_type": "display_data"
    }
   ],
   "source": [
    "# Номер тестовой цифры, которую будем распознавать\n",
    "n_rec = np.random.randint(x_test_org.shape[0])\n",
    "\n",
    "# Отображение картинки из тестового набора под номером n_rec\n",
    "plt.imshow(x_test_org[n_rec], cmap='gray')\n",
    "plt.show()"
   ]
  },
  {
   "cell_type": "code",
   "execution_count": 25,
   "id": "3eda7e1b-7d21-4f97-a8c4-af916683ce2d",
   "metadata": {},
   "outputs": [
    {
     "name": "stdout",
     "output_type": "stream",
     "text": [
      "(784,)\n"
     ]
    }
   ],
   "source": [
    "# Выбор нужной картинки из тестовой выборки\n",
    "x = x_test[n_rec]\n",
    "\n",
    "# Проверка формы данных\n",
    "print(x.shape)"
   ]
  },
  {
   "cell_type": "code",
   "execution_count": 26,
   "id": "1e1bad92-f364-48d8-b950-5bb3a8477346",
   "metadata": {},
   "outputs": [
    {
     "name": "stdout",
     "output_type": "stream",
     "text": [
      "(1, 784)\n"
     ]
    }
   ],
   "source": [
    "# Добавление одной оси в начале, чтобы нейронка могла распознать пример\n",
    "# Массив из одного примера, так как нейронка принимает именно массивы примеров (батчи) для распознавания\n",
    "x = np.expand_dims(x, axis=0)\n",
    "\n",
    "# Проверка формы данных\n",
    "print(x.shape)"
   ]
  },
  {
   "cell_type": "code",
   "execution_count": 27,
   "id": "4b382f54-7423-4aa3-89ba-f20eaa14c1a8",
   "metadata": {},
   "outputs": [
    {
     "name": "stdout",
     "output_type": "stream",
     "text": [
      "1/1 [==============================] - 2s 2s/step\n"
     ]
    }
   ],
   "source": [
    "# Распознавание примера\n",
    "prediction = model.predict(x) "
   ]
  },
  {
   "cell_type": "code",
   "execution_count": 28,
   "id": "c12996e2-a5ba-484a-990e-7d0d38e5ba6e",
   "metadata": {},
   "outputs": [
    {
     "name": "stdout",
     "output_type": "stream",
     "text": [
      "[[2.2660418e-16 1.1000461e-15 1.6401531e-14 5.1018759e-11 5.6101243e-08\n",
      "  3.9401080e-15 9.7409897e-18 4.8741278e-10 3.1279527e-08 1.0000000e+00]]\n"
     ]
    }
   ],
   "source": [
    "# Вывод результата - вектор из 10 чисел\n",
    "print(prediction)"
   ]
  },
  {
   "cell_type": "code",
   "execution_count": 29,
   "id": "f95c965c-ecd5-4d3c-9f5b-b2378230e367",
   "metadata": {},
   "outputs": [
    {
     "name": "stdout",
     "output_type": "stream",
     "text": [
      "[[2.2660418e-16 1.1000461e-15 1.6401531e-14 5.1018759e-11 5.6101243e-08\n",
      "  3.9401080e-15 9.7409897e-18 4.8741278e-10 3.1279527e-08 1.0000000e+00]]\n"
     ]
    }
   ],
   "source": [
    "# Вывод результата - вектор из 10 чисел\n",
    "print(prediction)"
   ]
  },
  {
   "cell_type": "code",
   "execution_count": 30,
   "id": "043d4c7c-15e1-4153-8963-aa1e03b08033",
   "metadata": {},
   "outputs": [
    {
     "name": "stdout",
     "output_type": "stream",
     "text": [
      "Распознана цифра: 9\n"
     ]
    }
   ],
   "source": [
    "# Получение и вывод индекса самого большого элемента (это значение цифры, которую распознала сеть)\n",
    "pred = np.argmax(prediction)\n",
    "print(f'Распознана цифра: {pred}')"
   ]
  },
  {
   "cell_type": "code",
   "execution_count": 31,
   "id": "9a3d11b8-91e1-43cb-afd2-8eb064b9de4e",
   "metadata": {},
   "outputs": [
    {
     "name": "stdout",
     "output_type": "stream",
     "text": [
      "9\n"
     ]
    }
   ],
   "source": [
    "# Вывод правильного ответа для сравнения\n",
    "print(y_test_org[n_rec])"
   ]
  },
  {
   "cell_type": "code",
   "execution_count": null,
   "id": "efa6ba5a-d978-4e2a-914f-c39077a57500",
   "metadata": {},
   "outputs": [],
   "source": []
  }
 ],
 "metadata": {
  "kernelspec": {
   "display_name": "Python 3 (ipykernel)",
   "language": "python",
   "name": "python3"
  },
  "language_info": {
   "codemirror_mode": {
    "name": "ipython",
    "version": 3
   },
   "file_extension": ".py",
   "mimetype": "text/x-python",
   "name": "python",
   "nbconvert_exporter": "python",
   "pygments_lexer": "ipython3",
   "version": "3.9.13"
  }
 },
 "nbformat": 4,
 "nbformat_minor": 5
}
